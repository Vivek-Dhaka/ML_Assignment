{
 "cells": [
  {
   "cell_type": "markdown",
   "metadata": {},
   "source": [
    "# Question 1.1\n",
    "Write a Python Program(with class concepts) to find the area of the triangle using the below\n",
    "formula.\n",
    "\n",
    "area = (s*(s-a)*(s-b)*(s-c)) ** 0.5\n",
    "\n",
    "Function to take the length of the sides of triangle from user should be defined in the parent\n",
    "class and function to calculate the area should be defined in subclass."
   ]
  },
  {
   "cell_type": "code",
   "execution_count": 3,
   "metadata": {},
   "outputs": [
    {
     "name": "stdout",
     "output_type": "stream",
     "text": [
      "Please enter the first side of a triangle: 4\n",
      "Please enter the second side of a triangle: 4\n",
      "Please enter the third side of a triangle: 4\n",
      "Area of Triangle: 46.475800154489\n"
     ]
    }
   ],
   "source": [
    "#solution 1.1\n",
    "\n",
    "#taking input from user\n",
    "a = int(input('Please enter the first side of a triangle: '))\n",
    "b = int(input('Please enter the second side of a triangle: '))\n",
    "c = int(input('Please enter the third side of a triangle: '))\n",
    "\n",
    "#creating parent class\n",
    "class triangle:\n",
    "    def __init__(self,a,b,c):\n",
    "        self.a=a\n",
    "        self.b=b\n",
    "        self.c=c\n",
    "    \n",
    "#creating child class\n",
    "class area_of_triangle(triangle):\n",
    "    def get_area(self):\n",
    "        s = a+b+c/2\n",
    "        area = (s*(s-a)*(s-b)*(s-c))**0.5\n",
    "        return area\n",
    "\n",
    "w = area_of_triangle(a,b,c)\n",
    "print(\"Area of Triangle:\", w.get_area())"
   ]
  },
  {
   "cell_type": "code",
   "execution_count": null,
   "metadata": {},
   "outputs": [],
   "source": []
  },
  {
   "cell_type": "markdown",
   "metadata": {},
   "source": [
    "# Question 1.2\n",
    "Write a function filter_long_words() that takes a list of words and an integer n and returns\n",
    "the list of words that are longer than n."
   ]
  },
  {
   "cell_type": "code",
   "execution_count": 39,
   "metadata": {},
   "outputs": [
    {
     "name": "stdout",
     "output_type": "stream",
     "text": [
      "Enter list of word with ',': man,ok,mango,wow\n",
      "Enter Lenth of longer than: 2\n",
      "Words that are longer than provided number: ['man', 'mango', 'wow']\n"
     ]
    }
   ],
   "source": [
    "# Solution 1.2\n",
    "\n",
    "#creating function\n",
    "def filter_long_words(l,n):\n",
    "    words = []\n",
    "    for j in l:\n",
    "        if(len(j) > n):\n",
    "            words.append(j)\n",
    "    return words\n",
    "\n",
    "#taking list of words from user\n",
    "List_of_word = input(\"Enter list of word with ',': \")\n",
    "l = List_of_word.split(\",\")\n",
    "\n",
    "#taking integer from user\n",
    "integer = input(\"Enter Lenth of longer than: \")\n",
    "n = int(integer)\n",
    "\n",
    "long = filter_long_words(l,a)\n",
    "\n",
    "#printing the list of words that are longer than provided integer\n",
    "print(\"Words that are longer than provided number:\",long)"
   ]
  },
  {
   "cell_type": "code",
   "execution_count": null,
   "metadata": {},
   "outputs": [],
   "source": []
  },
  {
   "cell_type": "markdown",
   "metadata": {},
   "source": [
    "# Question 2.1\n",
    "Write a Python program using function concept that maps list of words into a list of integers\n",
    "representing the lengths of the corresponding words.\n",
    "\n",
    "Hint: If a list [ ab,cde,erty] is passed on to the python function output should come as [2,3,4]\n",
    "Here 2,3 and 4 are the lengths of the words in the list."
   ]
  },
  {
   "cell_type": "code",
   "execution_count": 5,
   "metadata": {},
   "outputs": [
    {
     "data": {
      "text/plain": [
       "[3, 2, 4, 3]"
      ]
     },
     "execution_count": 5,
     "metadata": {},
     "output_type": "execute_result"
    }
   ],
   "source": [
    "# Solution 2.1\n",
    "\n",
    "#creating list of words\n",
    "l = ['abc','xy','tuvw','ijk']\n",
    "new_l = []\n",
    "\n",
    "#creating function for map\n",
    "def words_lenght(l):\n",
    "    for i in l:\n",
    "        new_l.append(len(i))\n",
    "    return new_l\n",
    "\n",
    "# return lengths of the words in the list\n",
    "words_lenght(l)"
   ]
  },
  {
   "cell_type": "code",
   "execution_count": null,
   "metadata": {},
   "outputs": [],
   "source": []
  },
  {
   "cell_type": "markdown",
   "metadata": {},
   "source": [
    "# Question 2.2\n",
    "Write a Python function which takes a character (i.e. a string of length 1) and returns True if\n",
    "it is a vowel, False otherwise."
   ]
  },
  {
   "cell_type": "code",
   "execution_count": 25,
   "metadata": {},
   "outputs": [
    {
     "name": "stdout",
     "output_type": "stream",
     "text": [
      "insert a character: E\n"
     ]
    },
    {
     "data": {
      "text/plain": [
       "True"
      ]
     },
     "execution_count": 25,
     "metadata": {},
     "output_type": "execute_result"
    }
   ],
   "source": [
    "# Solution 2.2\n",
    "\n",
    "# taking character from user\n",
    "character = input('insert a character: ' )\n",
    "c = str(character)\n",
    "\n",
    "vowel = ['a','e','i','o','u','A','E','I','O','U']\n",
    "\n",
    "# creating function\n",
    "def vowel_identifier(c):\n",
    "    for i in vowel:\n",
    "        if c == i:\n",
    "            return True\n",
    "    else:\n",
    "        return False\n",
    "\n",
    "#returns True if it is a vowel, False otherwise\n",
    "vowel_identifier(c)"
   ]
  },
  {
   "cell_type": "code",
   "execution_count": null,
   "metadata": {},
   "outputs": [],
   "source": []
  },
  {
   "cell_type": "code",
   "execution_count": null,
   "metadata": {},
   "outputs": [],
   "source": []
  }
 ],
 "metadata": {
  "kernelspec": {
   "display_name": "Python 3",
   "language": "python",
   "name": "python3"
  },
  "language_info": {
   "codemirror_mode": {
    "name": "ipython",
    "version": 3
   },
   "file_extension": ".py",
   "mimetype": "text/x-python",
   "name": "python",
   "nbconvert_exporter": "python",
   "pygments_lexer": "ipython3",
   "version": "3.7.4"
  }
 },
 "nbformat": 4,
 "nbformat_minor": 2
}
